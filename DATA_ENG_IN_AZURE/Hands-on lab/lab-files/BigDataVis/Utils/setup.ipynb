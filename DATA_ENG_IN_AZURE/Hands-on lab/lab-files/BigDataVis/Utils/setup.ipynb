{
 "cells": [
  {
   "cell_type": "code",
   "execution_count": null,
   "metadata": {},
   "outputs": [],
   "source": [
    "service_credential = dbutils.secrets.get(scope=\"<DataBricks secrets scope name>\",key=\"<Key Desciption in Key Vault>\")  #scope : secret scope / secret description in key vault!  \n",
    "\n",
    "spark.conf.set(\"fs.azure.account.auth.type.<storage account name>.dfs.core.windows.net\", \"OAuth\")\n",
    "spark.conf.set(\"fs.azure.account.oauth.provider.type.<storage account name>.dfs.core.windows.net\", \"org.apache.hadoop.fs.azurebfs.oauth2.ClientCredsTokenProvider\")\n",
    "spark.conf.set(\"fs.azure.account.oauth2.client.id.<storage account name>.dfs.core.windows.net\", \"<Application (client) ID in AAD>\") # application id / cliend id\n",
    "spark.conf.set(\"fs.azure.account.oauth2.client.secret.<storage account name>.dfs.core.windows.net\", service_credential)\n",
    "spark.conf.set(\"fs.azure.account.oauth2.client.endpoint.<storage account name>.dfs.core.windows.net\", \"https://login.microsoftonline.com/<AAD teanant ID>\") # directory (tenant)id"
   ]
  },
  {
   "cell_type": "code",
   "execution_count": null,
   "metadata": {},
   "outputs": [],
   "source": [
    "dbutils.secrets.listScopes()"
   ]
  },
  {
   "cell_type": "code",
   "execution_count": null,
   "metadata": {},
   "outputs": [],
   "source": [
    "dbutils.secrets.list(\"<secret scope name>\")"
   ]
  },
  {
   "cell_type": "code",
   "execution_count": null,
   "metadata": {},
   "outputs": [],
   "source": [
    "configs = {\n",
    "  \"fs.azure.account.auth.type\": \"CustomAccessToken\",\n",
    "  \"fs.azure.account.custom.token.provider.class\":   spark.conf.get(\"spark.databricks.passthrough.adls.gen2.tokenProviderClassName\")\n",
    "}\n",
    "dbutils.fs.mount(\n",
    "  source = \"abfss://<container name>@a<storage account name>.dfs.core.windows.net/<folder name>\",\n",
    "  mount_point = \"/mnt/<mount name>\",\n",
    "  extra_configs = configs)"
   ]
  },
  {
   "cell_type": "code",
   "execution_count": null,
   "metadata": {},
   "outputs": [],
   "source": [
    "dbutils.fs.ls(\"abfss://<container name>@<storage account name>.dfs.core.windows.net/\")"
   ]
  }
 ],
 "metadata": {
  "language_info": {
   "name": "python"
  },
  "orig_nbformat": 4
 },
 "nbformat": 4,
 "nbformat_minor": 2
}
